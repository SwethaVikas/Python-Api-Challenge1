{
 "cells": [
  {
   "cell_type": "markdown",
   "metadata": {},
   "source": [
    "# WeatherPy\n",
    "\n",
    "   Analysis\n",
    "\n",
    "1. From the Temperature vs Latitude as we go closer to the equeator thr temperature is getting hotter and as we go towords to      the northpoal Temperatuer is colaer.\n",
    "\n",
    "2. We can't find any correlation betweent the Latitude and Humidity or couldiness or Windspeed.\n",
    "\n",
    "3. A more Histroic data helped to show the relationship bnetter. "
   ]
  },
  {
   "cell_type": "code",
   "execution_count": 1,
   "metadata": {
    "scrolled": true
   },
   "outputs": [
    {
     "ename": "ModuleNotFoundError",
     "evalue": "No module named 'matplotlib'",
     "output_type": "error",
     "traceback": [
      "\u001b[1;31m---------------------------------------------------------------------------\u001b[0m",
      "\u001b[1;31mModuleNotFoundError\u001b[0m                       Traceback (most recent call last)",
      "\u001b[1;32m<ipython-input-1-a5e370265201>\u001b[0m in \u001b[0;36m<module>\u001b[1;34m\u001b[0m\n\u001b[0;32m      1\u001b[0m \u001b[1;31m# Dependencies and Setup\u001b[0m\u001b[1;33m\u001b[0m\u001b[1;33m\u001b[0m\u001b[1;33m\u001b[0m\u001b[0m\n\u001b[1;32m----> 2\u001b[1;33m \u001b[1;32mimport\u001b[0m \u001b[0mmatplotlib\u001b[0m\u001b[1;33m.\u001b[0m\u001b[0mpyplot\u001b[0m \u001b[1;32mas\u001b[0m \u001b[0mplt\u001b[0m\u001b[1;33m\u001b[0m\u001b[1;33m\u001b[0m\u001b[0m\n\u001b[0m\u001b[0;32m      3\u001b[0m \u001b[1;32mimport\u001b[0m \u001b[0mmatplotlib\u001b[0m\u001b[1;33m.\u001b[0m\u001b[0mimage\u001b[0m \u001b[1;32mas\u001b[0m \u001b[0mmpimg\u001b[0m\u001b[1;33m\u001b[0m\u001b[1;33m\u001b[0m\u001b[0m\n\u001b[0;32m      4\u001b[0m \u001b[1;32mimport\u001b[0m \u001b[0mpandas\u001b[0m \u001b[1;32mas\u001b[0m \u001b[0mpd\u001b[0m\u001b[1;33m\u001b[0m\u001b[1;33m\u001b[0m\u001b[0m\n\u001b[0;32m      5\u001b[0m \u001b[1;32mimport\u001b[0m \u001b[0mnumpy\u001b[0m \u001b[1;32mas\u001b[0m \u001b[0mnp\u001b[0m\u001b[1;33m\u001b[0m\u001b[1;33m\u001b[0m\u001b[0m\n",
      "\u001b[1;31mModuleNotFoundError\u001b[0m: No module named 'matplotlib'"
     ]
    }
   ],
   "source": [
    "# Dependencies and Setup\n",
    "import matplotlib.pyplot as plt\n",
    "import matplotlib.image as mpimg\n",
    "import pandas as pd\n",
    "import numpy as np\n",
    "import requests\n",
    "import time\n",
    "\n",
    "# Import API key\n",
    "from api_keys import api_key\n",
    "\n",
    "# Incorporated citipy to determine city based on latitude and longitude\n",
    "from citipy import citipy\n",
    "\n",
    "# Output File (CSV)\n",
    "output_data_file = \"output_data/cities.csv\"\n",
    "\n",
    "# Range of latitudes and longitudes\n",
    "lat_range = (-90, 90)\n",
    "lng_range = (-180, 180)\n",
    "\n",
    "#import the image for the plot\n",
    "img = mpimg.imread('../Images/Lat_Long_Map_HR.png')\n"
   ]
  },
  {
   "cell_type": "code",
   "execution_count": null,
   "metadata": {},
   "outputs": [],
   "source": [
    "!pip install citipy"
   ]
  },
  {
   "cell_type": "markdown",
   "metadata": {},
   "source": [
    "## Generate Cities List"
   ]
  },
  {
   "cell_type": "code",
   "execution_count": null,
   "metadata": {
    "scrolled": true
   },
   "outputs": [],
   "source": [
    "# List for holding lat_lngs and cities\n",
    "lat_lngs = []\n",
    "cities = []\n",
    "\n",
    "# Create a set of random lat and lng combinations\n",
    "lats = np.random.uniform(low=-90.000, high=90.000, size=1500)\n",
    "lngs = np.random.uniform(low=-180.000, high=180.000, size=1500)\n",
    "lat_lngs = zip(lats, lngs)\n",
    "\n",
    "# Identify nearest city for each lat, lng combination\n",
    "for lat_lng in lat_lngs:\n",
    "    city = citipy.nearest_city(lat_lng[0], lat_lng[1]).city_name\n",
    "    \n",
    "    # If the city is unique, then add it to a our cities list\n",
    "    if city not in cities:\n",
    "        cities.append(city)\n",
    "\n",
    "# Print the city count to confirm sufficient count\n",
    "cities = set(cities) \n",
    "len(cities)\n",
    "print(cities)"
   ]
  },
  {
   "cell_type": "markdown",
   "metadata": {},
   "source": [
    "### Perform API Calls\n",
    "* Perform a weather check on each city using a series of successive API calls.\n",
    "* Include a print log of each city as it'sbeing processed (with the city number and city name).\n"
   ]
  },
  {
   "cell_type": "code",
   "execution_count": null,
   "metadata": {},
   "outputs": [],
   "source": [
    "# Save config information\n",
    "url = \"http://api.openweathermap.org/data/2.5/weather?\"\n",
    "units = \"Imperial\"\n",
    "\n",
    "\n",
    "# Build partial query URL\n",
    "query_url = f\"{url}appid={api_key}&units={units}&q=\"\n",
    "\n",
    "# set up lists to hold reponse info\n",
    "lat = []\n",
    "lng = []\n",
    "temp = []\n",
    "humidity = []\n",
    "windSpeed= []\n",
    "count_Cities = 1\n",
    "couldiness =[]\n",
    "city_Found =[]\n",
    "\n",
    "response = requests.get(query_url + city).json()\n",
    "response\n",
    "\n",
    "#Loop through the list of cities and perform a request for data on each\n",
    "for city in cities:\n",
    "    \n",
    "    \n",
    "    response = requests.get(query_url + city).json()\n",
    "    if response['cod']==200:\n",
    "        \n",
    "        city_Found.append(city)\n",
    "        lat.append(response['coord']['lat'])\n",
    "        lng.append(response['coord']['lon'])\n",
    "        temp.append(response['main']['temp'])\n",
    "        humidity.append(response['main']['humidity'])\n",
    "        windSpeed.append(response['wind']['speed'])\n",
    "        couldiness.append(response['clouds']['all'])\n",
    "        print(f\"city found {count_Cities} | {city}  \")\n",
    "       \n",
    "        count_Cities = count_Cities + 1\n",
    "    else:\n",
    "        print(\"City not found. Skipping...\")\n",
    "\n",
    "print(f\"The latitude information received is: {lat}\")\n",
    "print(f\"The longitude information received is: {lng}\")\n",
    "print(f\"The temperature information received is: {temp}\")\n",
    "print(f\"The humidity information received is: {humidity}\")\n",
    "print(f\"The windspeed information received is: {windSpeed}\")\n",
    "print(f\"The couldiness information received is: {couldiness}\")"
   ]
  },
  {
   "cell_type": "markdown",
   "metadata": {},
   "source": [
    "### Convert Raw Data to DataFrame\n",
    "* Export the city data into a .csv.\n",
    "* Display the DataFrame"
   ]
  },
  {
   "cell_type": "code",
   "execution_count": null,
   "metadata": {},
   "outputs": [],
   "source": [
    "WeatherPy_dict = {\n",
    "    \"City\":city_Found,\n",
    "    \"Lat\":lat,\n",
    "    \"Lng\":lng,\n",
    "    \"Temp\":temp,\n",
    "    \"Humidity\":humidity,\n",
    "    \"WindSpeed\":windSpeed,\n",
    "    \"Cloudiness\":couldiness,\n",
    "    }\n",
    "\n"
   ]
  },
  {
   "cell_type": "code",
   "execution_count": null,
   "metadata": {},
   "outputs": [],
   "source": [
    "# naming a dataframe\n",
    "Weatherpy_dataframe = pd.DataFrame(WeatherPy_dict)\n",
    "Weatherpy_dataframe.head()"
   ]
  },
  {
   "cell_type": "code",
   "execution_count": null,
   "metadata": {},
   "outputs": [],
   "source": [
    "Weatherpy_dataframe.count()"
   ]
  },
  {
   "cell_type": "code",
   "execution_count": null,
   "metadata": {},
   "outputs": [],
   "source": [
    "#city data into a .csv.\n",
    "Weatherpy_dataframe.to_csv(output_data_file) "
   ]
  },
  {
   "cell_type": "markdown",
   "metadata": {},
   "source": [
    "### Plotting the Data\n",
    "* Use proper labeling of the plots using plot titles (including date of analysis) and axes labels.\n",
    "* Save the plotted figures as .pngs."
   ]
  },
  {
   "cell_type": "markdown",
   "metadata": {},
   "source": [
    "#### Latitude vs. Temperature Plot"
   ]
  },
  {
   "cell_type": "code",
   "execution_count": null,
   "metadata": {},
   "outputs": [],
   "source": [
    "#plt.imshow(img,origin='higher')\n",
    "plt.scatter(Weatherpy_dataframe[\"Temp\"],Weatherpy_dataframe[\"Lat\"],edgecolors=\"black\",facecolors=\"coral\",\n",
    "            alpha = 0.75,linewidth = 1.0)\n",
    "plt.show\n",
    "\n",
    "plt.title(f\"City Latitude vs.Temperature (F) \", fontsize=16)\n",
    "plt.xlabel('Temperature (F)', fontsize=14)\n",
    "plt.ylabel('Latitude', fontsize=14)\n",
    "\n",
    "#defining size for the graph\n",
    "fig_size = plt.rcParams[\"figure.figsize\"]\n",
    "fig_size[0] = 10\n",
    "fig_size[1] = 8.5\n",
    "plt.rcParams[\"figure.figsize\"] = fig_size\n",
    "\n",
    "\n",
    "#save as a image\n",
    "plt.savefig(\"../Images/City Latitude vs.Temperature (F).png\")\n",
    "plt.show()"
   ]
  },
  {
   "cell_type": "markdown",
   "metadata": {},
   "source": [
    "# Latitude vs. Humidity Plot"
   ]
  },
  {
   "cell_type": "code",
   "execution_count": null,
   "metadata": {},
   "outputs": [],
   "source": [
    "plt.scatter(Weatherpy_dataframe[\"Humidity\"],Weatherpy_dataframe[\"Lat\"],edgecolors=\"black\",facecolors=\"coral\",\n",
    "            alpha = 0.75,linewidth = 0.5)\n",
    "plt.show\n",
    "\n",
    "plt.title(f\"City Latitude vs.Humidity % \", fontsize=16)\n",
    "plt.xlabel('Latitude', fontsize=14)\n",
    "plt.ylabel('Humidity %', fontsize=14)\n",
    "\n",
    "#save as a image\n",
    "plt.savefig(\"../Images/Humidity %.png\")\n",
    "plt.show()"
   ]
  },
  {
   "cell_type": "markdown",
   "metadata": {},
   "source": [
    "#### Latitude vs. Cloudiness Plot"
   ]
  },
  {
   "cell_type": "code",
   "execution_count": null,
   "metadata": {},
   "outputs": [],
   "source": [
    "plt.scatter(Weatherpy_dataframe[\"Cloudiness\"],Weatherpy_dataframe[\"Lat\"],edgecolors=\"black\",facecolors=\"coral\",\n",
    "            alpha = 0.75,linewidth = 0.5)\n",
    "\n",
    "plt.title(f\"City Latitude vs.Cloudiness % \", fontsize=16)\n",
    "plt.xlabel('Cloudiness %', fontsize=14)\n",
    "plt.ylabel('Latitude', fontsize=14)\n",
    "\n",
    "#save as a image\n",
    "plt.savefig(\"../Images/Cloudiness %.png\")\n",
    "plt.show()"
   ]
  },
  {
   "cell_type": "markdown",
   "metadata": {},
   "source": [
    "#### Latitude vs. Wind Speed Plot"
   ]
  },
  {
   "cell_type": "code",
   "execution_count": null,
   "metadata": {},
   "outputs": [],
   "source": [
    "plt.scatter(Weatherpy_dataframe[\"WindSpeed\"],Weatherpy_dataframe[\"Lat\"],edgecolors=\"black\",facecolors=\"coral\",\n",
    "            alpha = 0.75,linewidth = 0.5)\n",
    "\n",
    "plt.title(f\"City Latitude vs.Windspeed (mph) \", fontsize=16)\n",
    "plt.xlabel('Latitude', fontsize=14)\n",
    "plt.ylabel('Windspeed (mph)', fontsize=14)\n",
    "\n",
    "#save as a image\n",
    "plt.savefig(\"../Images/Windspeed (mph).png\")\n",
    "plt.show()"
   ]
  },
  {
   "cell_type": "code",
   "execution_count": null,
   "metadata": {},
   "outputs": [],
   "source": []
  }
 ],
 "metadata": {
  "anaconda-cloud": {},
  "kernel_info": {
   "name": "python3"
  },
  "kernelspec": {
   "display_name": "Python 3",
   "language": "python",
   "name": "python3"
  },
  "language_info": {
   "codemirror_mode": {
    "name": "ipython",
    "version": 3
   },
   "file_extension": ".py",
   "mimetype": "text/x-python",
   "name": "python",
   "nbconvert_exporter": "python",
   "pygments_lexer": "ipython3",
   "version": "3.7.4"
  },
  "nteract": {
   "version": "0.12.3"
  }
 },
 "nbformat": 4,
 "nbformat_minor": 2
}
